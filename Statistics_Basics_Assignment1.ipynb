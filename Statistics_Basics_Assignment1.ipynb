{
 "cells": [
  {
   "cell_type": "markdown",
   "metadata": {},
   "source": [
    "### Q1. Explain the different types of data (qualitative and quantitative) and provide examples of each. Discuss nominal, ordinal, interval, and ratio scales. "
   ]
  },
  {
   "cell_type": "markdown",
   "metadata": {},
   "source": [
    "- Data can be broadly categorized into two main types: qualitative and quantitative.\n",
    "### Qualitative Data:\n",
    "- Qualitative data, also known as categorical data, is non-numeric and is used to describe characteristics or qualities. It can be further divided into:\n",
    "\n",
    "### Nominal Data: \n",
    "- This type of data consists of categories without any inherent order. Examples include:\n",
    "- Gender (male, female, non-binary)\n",
    "- Marital Status (single, married, divorced)\n",
    "- Colors (red, blue, green)\n",
    "\n",
    "### Ordinal Data: \n",
    "- This data also consists of categories, but these categories have a defined order or ranking. However, the intervals between ranks are not necessarily uniform. Examples include:\n",
    "- Education Level (high school, bachelor's, master's, doctorate)\n",
    "- Customer Satisfaction Ratings (poor, fair, good, excellent)\n",
    "- Socioeconomic Status (low, middle, high)\n",
    "\n",
    "### Quantitative Data:\n",
    "- Quantitative data is numeric and can be measured and counted. It can be divided into:\n",
    "\n",
    "### Interval Data: \n",
    "- This type of data has ordered categories with equal intervals between values, but it does not have a true zero point. Examples include:\n",
    "- Temperature (Celsius or Fahrenheit; 0 does not mean 'no temperature')\n",
    "- IQ Scores (the difference between scores is meaningful, but there is no true zero)\n",
    "\n",
    "### Ratio Data: \n",
    "- Ratio data has all the characteristics of interval data, but it also has a true zero point, which allows for the comparison of absolute magnitudes. Examples include:\n",
    "- Height (0 cm means no height)\n",
    "- Weight (0 kg means no weight)\n",
    "- Income (0 dollars means no income).\n",
    "\n",
    "## 1. Nominal Scale:\n",
    "- Definition: The nominal scale is the simplest form of measurement. It categorizes data without any order or ranking.\n",
    "### Characteristics:\n",
    "- Categories: Data is divided into distinct categories.\n",
    "- No Order: There is no inherent ranking among the categories.\n",
    "### Examples:\n",
    "- Gender: Male, female, non-binary.\n",
    "- Types of Cuisine: Italian, Chinese, Mexican.\n",
    "- Car Brands: Ford, Toyota, Honda.\n",
    "\n",
    "## 2. Ordinal Scale:\n",
    "- Definition: The ordinal scale categorizes data into ranked order, where the categories have a meaningful sequence.\n",
    "### Characteristics:\n",
    "- Rank Order: Categories can be ranked or ordered.\n",
    "- Unequal Intervals: The difference between ranks is not uniform; the intervals between categories are not necessarily equal.\n",
    "### Examples:\n",
    "- Education Level: High school, bachelor’s, master’s, doctorate.\n",
    "- Customer Satisfaction: Poor, fair, good, excellent.\n",
    "- Socioeconomic Status: Low, middle, high.\n",
    "\n",
    "### 3. Interval Scale:\n",
    "- Definition: The interval scale measures variables with equal intervals between values but lacks a true zero point.\n",
    "### Characteristics:\n",
    "- Ordered: Values can be ordered.\n",
    "- Equal Intervals: The difference between values is meaningful and consistent.\n",
    "- No True Zero: A zero value does not indicate the absence of the quantity.\n",
    "### Examples:\n",
    "- Temperature: Measured in Celsius or Fahrenheit (0 degrees does not mean 'no temperature').\n",
    "- Calendar Years: The years 2000 and 2020; the difference is meaningful, but 0 AD does not indicate 'no time'.\n",
    "\n",
    "### 4. Ratio Scale\n",
    "- Definition: The ratio scale has all the properties of the interval scale, but it includes a true zero point, allowing for meaningful comparisons of absolute magnitudes.\n",
    "### Characteristics:\n",
    "- Ordered: Values can be ordered.\n",
    "- Equal Intervals: The difference between values is meaningful and consistent.\n",
    "- True Zero: A zero value indicates the absence of the quantity being measured.\n",
    "### Examples:\n",
    "- Weight: Measured in kilograms or pounds (0 kg means no weight).\n",
    "- Height: Measured in centimeters or inches (0 cm means no height).\n",
    "- Income: Measured in dollars (0 dollars means no income)."
   ]
  },
  {
   "cell_type": "markdown",
   "metadata": {},
   "source": [
    "### Q2. What are the measures of central tendency, and when should you use each? Discuss the mean, median, and mode with examples and situations where each is appropriate. "
   ]
  },
  {
   "cell_type": "markdown",
   "metadata": {},
   "source": [
    "- Measures of central tendency are statistical measures that describe the center or typical value of a dataset. The three primary measures are the mean, median, and mode.\n",
    "\n",
    "### 1. Mean:\n",
    "- Definition: The mean is the arithmetic average of a set of numbers, calculated by adding all values together and dividing by the number of values.\n",
    "- Example: For the dataset 3,5,7,9.  Mean = 3+5+7+9/4 = 24/4 = 6.\n",
    "- When to Use: The mean is appropriate for interval and ratio data that are symmetrically distributed without outliers. It provides a good overall summary of the data.\n",
    "- Situation: For example, calculating the average test score of a class where scores are normally distributed.\n",
    "\n",
    "### 2. Median:\n",
    "- Definition: The median is the middle value of a dataset when it is ordered from least to greatest. If there is an even number of values, the median is the average of the two middle values.\n",
    "- Example: \n",
    "- For the  EVEN dataset [3,5,7,9] . Median = 5+7/2 = 12/2 = 6\n",
    "- For the  ODD dataset [3,5,7,9,22] . Median = Middle most element = 7\n",
    "- When to Use: The median is ideal for ordinal data or when the data is skewed or has outliers, as it is not affected by extreme values.\n",
    "- Situation: For example, in income data where a few individuals earn significantly more than others, the median provides a better representation of the typical income.\n",
    "\n",
    "### 3. Mode:\n",
    "- Definition: The mode is the value that appears most frequently in a dataset. A dataset can have one mode (unimodal), more than one mode (bimodal or multimodal), or no mode at all.\n",
    "- Example: For the dataset [3,5,5,7,9]. Mode = 5 as it (it appears most frequently).\n",
    "- When to Use: The mode is useful for nominal data or when identifying the most common item in a dataset. It can be helpful in categorical data analysis.\n",
    "- Situation: For example, determining the most common shoe size sold in a store, where shoe sizes are categorical.\n"
   ]
  },
  {
   "cell_type": "markdown",
   "metadata": {},
   "source": [
    "### Q3. Explain the concept of dispersion. How do variance and standard deviation measure the spread of data?"
   ]
  },
  {
   "cell_type": "markdown",
   "metadata": {},
   "source": [
    "- Dispersion, also known as variability or spread, refers to the extent to which data points in a dataset differ from one another and from the central tendency (mean, median, or mode).\n",
    "### Key Concepts of Dispersion:\n",
    "- 1. Range : The simplest measure of dispersion, calculated as the difference between the maximum and minimum values in a dataset.\n",
    "- 2. Variance: Variance measures the average squared deviation of each data point from the mean. It quantifies how much the data points differ from the mean value.\n",
    "- 3. Standard Deviation: The standard deviation is the square root of the variance. It provides a measure of dispersion in the same units as the data, making it more interpretable.\n",
    "- 4. Quartile.\n",
    "- 5. Percentage & Percentile.\n",
    "\n",
    "### How Variance and Standard Deviation Measure Spread of data?\n",
    "- Interpretation:\n",
    "### Variance: \n",
    "- A higher variance indicates that data points are spread out over a larger range of values. A lower variance suggests that the data points are closer to the mean. However, because variance is expressed in squared units, it can be less intuitive to interpret.\n",
    "### Standard Deviation: \n",
    "- Since the standard deviation is in the same unit as the original data, it provides a more understandable measure of spread. For example, if the mean height of a group of people is 170 cm with a standard deviation of 10 cm, most individuals' heights will fall within 160 cm to 180 cm (one standard deviation from the mean).\n",
    "\n",
    "### Example:\n",
    "- Consider the following two datasets:\n",
    "- 1. Dataset A: 5, 7, 8, 6, 7\n",
    "- 2. Dataset B: 1, 10, 3, 8, 2\n",
    "- Mean of A: 6.6\n",
    "- Mean of B: 4.8\n",
    "\n",
    "## Calculating Variance and Standard Deviation:\n",
    "\n",
    "### For Dataset A:\n",
    "- Variance: Low because the values are close to the mean.\n",
    "- Standard Deviation: Small value, indicating low spread.\n",
    "### For Dataset B:\n",
    "- Variance: High because the values are more spread out from the mean.\n",
    "- Standard Deviation: Larger value, indicating greater spread."
   ]
  },
  {
   "cell_type": "markdown",
   "metadata": {},
   "source": [
    " ### Q4. What is a box plot, and what can it tell you about the distribution of data? "
   ]
  },
  {
   "cell_type": "markdown",
   "metadata": {},
   "source": [
    "- A box plot, also known as a whisker plot or box-and-whisker plot, is a graphical representation used to display the distribution of a dataset through its quartiles. It provides a visual summary of several important statistical measures, making it easy to identify the central tendency, dispersion, and potential outliers in the data.\n",
    "\n",
    "### Components of a Box Plot:\n",
    "- A box plot typically consists of the following elements:\n",
    "\n",
    "- Box: The main part of the box plot, which represents the interquartile range (IQR). The IQR is the range between the first quartile (Q1) and the third quartile (Q3), capturing the middle 50% of the data.\n",
    "- Median Line: A line inside the box represents the median (Q2) of the dataset, dividing the box into two parts.\n",
    "- Whiskers: Lines extending from the box to the highest and lowest values within 1.5 times the IQR. The whiskers indicate the range of the data without considering outliers.\n",
    "- Outliers: Data points that fall outside the range defined by the whiskers. These are typically plotted as individual points, often marked with dots or asterisks.\n",
    "\n",
    "### What a Box Plot Tells You About the Distribution of Data?\n",
    "- 1. Central Tendency: The position of the median line within the box indicates the center of the dataset. If the median is closer to the top of the box, the data may be skewed lower; if it’s closer to the bottom, the data may be skewed higher.\n",
    "- 2. Spread and Variability: The length of the box (IQR) shows the variability in the middle 50% of the data. A longer box indicates greater variability, while a shorter box suggests less variability.\n",
    "- 3. Skewness: The relative lengths of the whiskers can indicate skewness:\n",
    "- If the upper whisker is longer, the data may be right-skewed (more high values).\n",
    "- If the lower whisker is longer, the data may be left-skewed (more low values).\n",
    "- 4. Outliers: Points plotted beyond the whiskers indicate outliers. These are values that are significantly different from the rest of the dataset and warrant further investigation.\n",
    "- 5. Comparison of Distributions: When box plots are drawn side by side for different groups or datasets, they allow for easy visual comparison of medians, spreads, and potential outliers across the groups.\n"
   ]
  },
  {
   "cell_type": "markdown",
   "metadata": {},
   "source": [
    "### Q5. Discuss the role of random sampling in making inferences about populations. "
   ]
  },
  {
   "cell_type": "markdown",
   "metadata": {},
   "source": [
    "- Random sampling is a fundamental technique in statistics that plays a crucial role in making inferences about populations based on sample data. It ensures that each member of a population has an equal chance of being selected, which helps to minimize bias and enhance the reliability of the conclusions drawn from the sample.\n",
    "\n",
    "### Importance of Random Sampling!\n",
    "- 1. Representativeness:\n",
    "- Random sampling increases the likelihood that the sample accurately reflects the characteristics of the population. By giving every individual an equal chance of selection, the sample can include diverse perspectives and variations present in the population.\n",
    "- 2. Minimizing Bias:\n",
    "- Non-random sampling methods can introduce biases that skew results. For instance, if only certain groups are sampled, conclusions may not apply to the entire population. Random sampling reduces systematic errors by eliminating the influence of the researcher’s preferences or external factors.\n",
    "- 3. Generalizability:\n",
    "- Results derived from a random sample can be generalized to the larger population with a higher degree of confidence. This is essential for making valid inferences, especially in surveys, experiments, and observational studies.\n",
    "- 4. Statistical Validity:\n",
    "- Many statistical techniques, such as hypothesis testing and confidence intervals, rely on the assumption of random sampling. These methods provide a framework for making inferences about population parameters based on sample statistics.\n",
    "- 5. Estimation of Sampling Error:\n",
    "- Random sampling allows researchers to estimate the sampling error (the difference between the sample statistic and the true population parameter). This helps in constructing confidence intervals and conducting hypothesis tests.\n",
    "\n",
    "### Methods of Random Sampling:\n",
    "- Several methods can be used to achieve random sampling, including:\n",
    "\n",
    "- 1. Simple Random Sampling: Every member of the population has an equal chance of being selected. This can be done using random number generators or drawing lots.\n",
    "- 2. Stratified Random Sampling: The population is divided into subgroups (strata) based on a characteristic (e.g., age, gender), and random samples are drawn from each stratum. This ensures representation across key demographic groups.\n",
    "- 3. Systematic Random Sampling: Members of the population are selected at regular intervals (e.g., every 10th person on a list). The starting point is chosen randomly.\n",
    "- 4. Cluster Sampling: The population is divided into clusters (e.g., geographic areas), and entire clusters are randomly selected. This method can be more practical and cost-effective, especially for large populations.\n",
    "\n",
    "### Making Inferences About Populations:\n",
    "- When a random sample is collected, researchers can use various statistical methods to draw conclusions about the population:\n",
    "\n",
    "- 1. Estimation: \n",
    "- Researchers can estimate population parameters (such as means or proportions) using sample statistics. For example, if a random sample of voters indicates that 60% support a candidate, one might infer that approximately 60% of the entire population supports that candidate, with a margin of error.\n",
    "- 2. Hypothesis Testing: \n",
    "- Random samples allow researchers to test hypotheses about populations. For instance, one might test whether the average income of a population has changed based on a sample.\n",
    "- 3. Confidence Intervals: \n",
    "- Researchers can create confidence intervals around sample estimates to provide a range in which the true population parameter is likely to fall. For example, a confidence interval for the mean test score might suggest that the true mean is between 75 and 85 with 95% confidence."
   ]
  },
  {
   "cell_type": "markdown",
   "metadata": {},
   "source": [
    "### Q6. Explain the concept of skewness and its types. How does skewness affect the interpretation of data? "
   ]
  },
  {
   "cell_type": "markdown",
   "metadata": {},
   "source": [
    "- Skewness is a statistical measure that describes the asymmetry of the distribution of data points in a dataset. It indicates whether the data is skewed to the left (negatively skewed) or to the right (positively skewed) and helps in understanding the shape of the distribution.\n",
    "\n",
    "### Types of Skewness:\n",
    "- 1. Positive Skewness (Right Skewed):\n",
    "- In a positively skewed distribution, the tail on the right side (higher values) is longer or fatter than the left side. Most of the data points are clustered on the left.\n",
    "- Characteristics:\n",
    "- Mean > Median > Mode\n",
    "The presence of a few high values pulls the mean to the right.\n",
    "- Example: Income distributions in many economies, where a majority earn lower incomes, but a small number earn very high incomes.\n",
    "\n",
    "- 2. Negative Skewness (Left Skewed):\n",
    "- In a negatively skewed distribution, the tail on the left side (lower values) is longer or fatter than the right side. Most data points are clustered on the right.\n",
    "- Characteristics:\n",
    "- Mean < Median < Mode\n",
    "A few low values pull the mean to the left.\n",
    "- Example: Age at retirement in a workforce where most people retire around a certain age, but a few retire much earlier.\n",
    "\n",
    "- 3. No Skewness (Symmetric Distribution):\n",
    "- A symmetric distribution has no skewness, meaning that the left and right sides of the distribution are mirror images of each other.\n",
    "- Characteristics:\n",
    "- Mean = Median = Mode\n",
    "- Example: A normal distribution (bell curve) is perfectly symmetric.\n",
    "\n",
    "\n",
    "### How Skewness Affects the Interpretation of Data\n",
    "- 1. Central Tendency:\n",
    "- Skewness affects the relationship between the mean, median, and mode. In skewed distributions, the mean can be misleading as a measure of central tendency. For example, in a positively skewed distribution, the mean will be greater than the median, suggesting a higher central value than what most data points reflect.\n",
    "- 2. Data Analysis and Reporting:\n",
    "- When analyzing data, understanding the skewness is vital for choosing appropriate statistical methods. For instance, many statistical tests assume normality (no skewness). If the data is skewed, using the mean may not accurately represent the data's central tendency, and analysts might opt for the median instead.\n",
    "- 3. Outlier Impact:\n",
    "- Skewed distributions often indicate the presence of outliers, which can significantly affect mean values. Recognizing skewness helps analysts identify and decide whether to address these outliers.\n",
    "- 4. Graphical Representation:\n",
    "- Visualizing skewness through histograms or box plots can provide insights into the data distribution. Identifying skewness visually aids in understanding potential biases in the data and informs decisions about further analysis.\n",
    "- 5. Data Interpretation:\n",
    "- Decisions based on skewed data may lead to incorrect conclusions. For example, in business contexts, if sales data is positively skewed, relying solely on the average sales figure could lead to overestimating typical sales performance. It's essential to consider the skewness to get a more accurate picture of the data."
   ]
  },
  {
   "cell_type": "markdown",
   "metadata": {},
   "source": [
    "### Q7. What is the interquartile range (IQR), and how is it used to detect outliers? "
   ]
  },
  {
   "cell_type": "markdown",
   "metadata": {},
   "source": [
    "- The interquartile range (IQR) is a measure of statistical dispersion that represents the range within which the central 50% of a dataset lies. It is calculated as the difference between the third quartile (Q3) and the first quartile (Q1). The IQR is particularly useful because it is not affected by outliers or extreme values, making it a robust measure of variability.\n",
    "\n",
    "### Detecting Outliers Using IQR\n",
    "Outliers are values that lie significantly outside the range of the majority of the data. The IQR can help identify these outliers using the following method:\n",
    "\n",
    "Calculate the lower and upper bounds:\n",
    "Lower Bound: Q1 − 1.5 × IQR\n",
    "Upper Bound: Q3 + 1.5 × IQR\n",
    "Identify Outliers:\n",
    "Any data point below the lower bound or above the upper bound is considered an outlier.\n"
   ]
  },
  {
   "cell_type": "markdown",
   "metadata": {},
   "source": [
    "### Q8. Discuss the conditions under which the binomial distribution is used. "
   ]
  },
  {
   "cell_type": "markdown",
   "metadata": {},
   "source": [
    "- The binomial distribution is a discrete probability distribution that models the number of successes in a fixed number of independent Bernoulli trials (experiments with two possible outcomes, typically termed \"success\" and \"failure\"). \n",
    "\n",
    "### Conditions for Using the Binomial Distribution:\n",
    "- 1. Fixed Number of Trials (n):\n",
    "- The number of trials 'n' must be predetermined and fixed in advance. Each trial is conducted independently.\n",
    "- 2. Two Possible Outcomes:\n",
    "- Each trial must result in one of two possible outcomes: typically termed \"success\" (which can be defined as the event of interest) and \"failure.\" For example, flipping a coin results in either heads (success) or tails (failure).\n",
    "- 3. Constant Probability of Success (p):\n",
    "- The probability of success, denoted as 'p' must remain constant across all trials. This means that each trial is identical in terms of the likelihood of success.\n",
    "- 4. Independent Trials:\n",
    "- The outcome of each trial must be independent of the others. This means that the result of one trial does not influence the result of any other trial.\n",
    "\n",
    "### Example of Binomial Distribution\n",
    "- 1. Coin Tossing:\n",
    "- Flipping a fair coin 'n' times and counting the number of heads. Here, the probability of heads (success) remains constant at 0.5."
   ]
  },
  {
   "cell_type": "markdown",
   "metadata": {},
   "source": [
    "### Q9. Explain the properties of the normal distribution and the empirical rule (68-95-99.7 rule)."
   ]
  },
  {
   "cell_type": "markdown",
   "metadata": {},
   "source": [
    "- The normal distribution, often referred to as the bell curve, is a continuous probability distribution that is symmetric about its mean. \n",
    "### Properties of the Normal Distribution:\n",
    "- 1. Symmetry:\n",
    "- The normal distribution is perfectly symmetrical around its mean. This means that the left side of the distribution is a mirror image of the right side.\n",
    "- 2. Mean, Median, and Mode:\n",
    "- In a normal distribution, the mean, median, and mode are all equal and located at the center of the distribution.\n",
    "- 3. Bell-Shaped Curve:\n",
    "- The graph of the normal distribution has a characteristic bell shape, with the highest point at the mean and tails that extend infinitely in both directions, approaching but never touching the horizontal axis.\n",
    "- 4. Asymptotic:\n",
    "- The tails of the normal distribution approach the horizontal axis but never actually touch it. This means that there is a non-zero probability of extreme values, although they become increasingly rare.\n",
    "- 5. Defined by Two Parameters:\n",
    "- The normal distribution is fully defined by its mean (μ) and standard deviation (σ). The mean determines the center of the distribution, while the standard deviation determines the width of the bell curve. A smaller standard deviation results in a steeper curve, while a larger standard deviation produces a flatter curve.\n",
    "- 6. Total Area Under the Curve:\n",
    "- The total area under the curve of a normal distribution is equal to 1, which represents the total probability of all outcomes.\n",
    "\n",
    "### The Empirical Rule (68-95-99.7 Rule):\n",
    "- The empirical rule is a helpful guideline for understanding the distribution of data in a normal distribution. It states that:\n",
    "\n",
    "- 1. Approximately 68% of the data falls within one standard deviation of the mean:\n",
    "- This means that about 68% of values will lie between μ−σ and μ+σ.\n",
    "- 2. Approximately 95% of the data falls within two standard deviations of the mean:\n",
    "- About 95% of values will be found between μ−2σ and μ+2σ.\n",
    "- 3. Approximately 99.7% of the data falls within three standard deviations of the mean:\n",
    "- Nearly all (99.7%) of the values will lie between μ−3σ and μ+3σ."
   ]
  },
  {
   "cell_type": "markdown",
   "metadata": {},
   "source": [
    "### Q10. Provide a real-life example of a Poison process and calculate the probability for a specific event. "
   ]
  },
  {
   "cell_type": "markdown",
   "metadata": {},
   "source": [
    "- A Poisson process is a statistical model that describes events occurring randomly over a fixed period of time or space, where these events happen with a known constant mean rate and are independent of the time since the last event. \n",
    "\n",
    "- Example: Customers Entering a Store:\n",
    "- Imagine a small coffee shop that receives an average of 4 customers per hour. We want to find out the probability of getting exactly 3 customers in the next hour.\n",
    "- Using the Poisson Formula\n",
    "-The formula to find the probability of getting exactly k customers is: \n",
    "- P(X=k)= e−λ.λk/k!\n",
    " \n",
    " -Where:\n",
    "\n",
    "- λ = average number of customers (4 customers/hour),\n",
    "\n",
    "- k = number of customers we want to find the probability for (3).\n",
    "\n",
    "- Step-by-Step Calculation\n",
    "- Parameters:\n",
    "- λ=4\n",
    "- k=3\n",
    "\n",
    "- Calculate Each Part:\n",
    "- e −4 is about 0.0183.\n",
    "- 4^3 = 64\n",
    "- 3!=6 \n",
    "\n",
    "- Final Calculation:\n",
    "\n",
    "- P(X=3)= 0.0183×64/6 ≈ 1.1712/6 ≈0.1952\n"
   ]
  },
  {
   "cell_type": "markdown",
   "metadata": {},
   "source": [
    "### Q11. Explain what a random variable is and differentiate between discrete and continuous random variables. "
   ]
  },
  {
   "cell_type": "markdown",
   "metadata": {},
   "source": [
    "- A random variable is a numerical outcome of a random phenomenon. It assigns a numerical value to each possible outcome in a sample space, allowing us to quantify and analyze the results of random events.\n",
    "\n",
    "### Types of Random Variables:\n",
    "- Random variables can be categorized into two main types: discrete random variables and continuous random variables.\n",
    "\n",
    "### 1. Discrete Random Variables:\n",
    "\n",
    "- Definition: A discrete random variable takes on a countable number of distinct values. This means you can list all possible values, and there are gaps between them.\n",
    "- Examples:\n",
    "The number of heads when flipping three coins (possible values: 0, 1, 2, 3).\n",
    "\n",
    "### 2. Continuous Random Variables:\n",
    "\n",
    "- Definition: A continuous random variable can take on any value within a given range. The values are uncountable and can include fractions and decimals.\n",
    "- Examples:\n",
    "The height of students in a classroom (can be any value, e.g., 5.4 feet, 5.5 feet).\n",
    "\n",
    "### Summary of Differences:\n",
    "- 1. Discrete Random Variable:\n",
    "- Values: Countable (e.g., whole numbers)\n",
    "- Examples: Number of students, dice rolls\n",
    "- Representation: Probability mass function (PMF)\n",
    "- Probability of a specific value: Can be calculated (e.g., P(X = k))\n",
    "\n",
    "- 2. Continuous Random Variable:\n",
    "- Values: Uncountable (any value in an interval)\n",
    "- Examples: Height, weight, time\n",
    "- Representation: Probability density function (PDF)\n",
    "- Probability of a specific value: Probability is zero (e.g., P(X = x) = 0)\n"
   ]
  },
  {
   "cell_type": "markdown",
   "metadata": {},
   "source": [
    "### Q12. Provide an example dataset, calculate both covariance and correlation, and interpret the results."
   ]
  },
  {
   "cell_type": "markdown",
   "metadata": {},
   "source": [
    "Let’s create a simple example dataset and calculate both covariance and correlation. We'll use two variables: the number of hours studied and the scores on a test.\n",
    "\n",
    "Example Dataset\n",
    "student\t= [1,2,3,4,5]\n",
    "hours_studied = [1,2,3,4,5]\n",
    "test_score = [50,60,70,80,90]"
   ]
  },
  {
   "cell_type": "code",
   "execution_count": 2,
   "metadata": {},
   "outputs": [],
   "source": [
    "import numpy as np\n",
    "import pandas as pd\n",
    "import matplotlib.pyplot as plt\n",
    "import seaborn as sns\n",
    "\n",
    "import warnings\n",
    "warnings.filterwarnings('ignore')"
   ]
  },
  {
   "cell_type": "code",
   "execution_count": 4,
   "metadata": {},
   "outputs": [
    {
     "name": "stdout",
     "output_type": "stream",
     "text": [
      "Mean of Hours Studied: 3.0\n",
      "Mean of Test Scores: 70.0\n",
      "Covariance: 25.0\n",
      "Correlation: 1.0\n",
      "Interpretation: There is a perfect positive linear relationship.\n"
     ]
    }
   ],
   "source": [
    "# Create the dataset\n",
    "data = {\n",
    "    'Hours_Studied': [1, 2, 3, 4, 5],\n",
    "    'Test_Score': [50, 60, 70, 80, 90]\n",
    "}\n",
    "\n",
    "# Convert to a DataFrame\n",
    "df = pd.DataFrame(data)\n",
    "\n",
    "# Calculate the means\n",
    "mean_x = df['Hours_Studied'].mean()\n",
    "mean_y = df['Test_Score'].mean()\n",
    "\n",
    "# Calculate covariance\n",
    "covariance = np.cov(df['Hours_Studied'], df['Test_Score'])[0, 1]\n",
    "\n",
    "# Calculate standard deviations\n",
    "std_x = df['Hours_Studied'].std()\n",
    "std_y = df['Test_Score'].std()\n",
    "\n",
    "# Calculate correlation\n",
    "correlation = covariance / (std_x * std_y)\n",
    "\n",
    "# Display results\n",
    "print(\"Mean of Hours Studied:\", mean_x)\n",
    "print(\"Mean of Test Scores:\", mean_y)\n",
    "print(\"Covariance:\", covariance)\n",
    "print(\"Correlation:\", correlation)\n",
    "\n",
    "# Interpretation\n",
    "if correlation == 1:\n",
    "    interpretation = \"There is a perfect positive linear relationship.\"\n",
    "elif correlation == -1:\n",
    "    interpretation = \"There is a perfect negative linear relationship.\"\n",
    "elif correlation > 0:\n",
    "    interpretation = \"There is a positive linear relationship.\"\n",
    "elif correlation < 0:\n",
    "    interpretation = \"There is a negative linear relationship.\"\n",
    "else:\n",
    "    interpretation = \"There is no linear relationship.\"\n",
    "\n",
    "print(\"Interpretation:\", interpretation)\n"
   ]
  },
  {
   "cell_type": "code",
   "execution_count": null,
   "metadata": {},
   "outputs": [],
   "source": []
  }
 ],
 "metadata": {
  "kernelspec": {
   "display_name": "Python 3",
   "language": "python",
   "name": "python3"
  },
  "language_info": {
   "codemirror_mode": {
    "name": "ipython",
    "version": 3
   },
   "file_extension": ".py",
   "mimetype": "text/x-python",
   "name": "python",
   "nbconvert_exporter": "python",
   "pygments_lexer": "ipython3",
   "version": "3.12.7"
  }
 },
 "nbformat": 4,
 "nbformat_minor": 2
}
